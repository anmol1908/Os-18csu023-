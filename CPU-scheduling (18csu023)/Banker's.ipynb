{
 "cells": [
  {
   "cell_type": "code",
   "execution_count": null,
   "metadata": {
    "colab": {
     "base_uri": "https://localhost:8080/"
    },
    "id": "xuNVqkjhH3Hv",
    "outputId": "67f05f61-2eac-49ef-c632-a4529c5d6c12"
   },
   "outputs": [
    {
     "name": "stdout",
     "output_type": "stream",
     "text": [
      "number of processes : 5\n",
      "number of resources : 3\n"
     ]
    }
   ],
   "source": [
    "p= int(input(\"number of processes : \"))\n",
    "r= int(input(\"number of resources : \"))\n",
    "\n",
    "process=[]\n",
    "for i in range(p):\n",
    "  process.append(i)\n",
    "\n",
    "avail = [2, 4, 2]\n",
    "\n",
    "max_r = [[7, 5, 3], [3, 2, 2], \n",
    "          [9, 0, 2], [2, 2, 2], \n",
    "          [4, 3, 3]] \n",
    "\n",
    "allot = [[0, 1, 0], [2, 0, 0], \n",
    "         [3, 0, 2], [2, 1, 1], \n",
    "        [0, 0, 2]]           \n",
    "\n",
    "def isSafe(processes, avail, maxm, allot): \n",
    "    need = [] \n",
    "    for i in range(p): \n",
    "        l = [] \n",
    "        for j in range(r): \n",
    "            l.append(0) \n",
    "        need.append(l) \n",
    "  \n",
    "    for i in range(p): \n",
    "        for j in range(r): \n",
    "\n",
    "            need[i][j] = max_r[i][j] - allot[i][j]   \n",
    "\n",
    "    finish = [0] * p \n",
    "\n",
    "    work = [0] * r  \n",
    "    for i in range(r): \n",
    "        work[i] = avail[i]    \n",
    "\n",
    "    count = 0\n",
    "    while (count < p):\n",
    "      found = False\n",
    "      for P in range(p):\n",
    "\n",
    "          if (finish[P] == 0): \n",
    "\n",
    "            for j in range(r): \n",
    "                    if (need[P][j] > work[j]): \n",
    "                        break\n",
    "                \n",
    "            if (j == r - 1):  \n",
    "                  \n",
    "                   \n",
    "                    for k in range(R):  \n",
    "                        work[k] += allot[P][k]  \n",
    "    \n",
    "                    safeSeq[count] = P \n",
    "                    count += 1\n",
    "  \n",
    "                   \n",
    "                    finish[P] = 1\n",
    "  \n",
    "                    found = True\n",
    "            \n",
    "          if (found == False): \n",
    "            print(\"System is not in safe state\") \n",
    "            return False\n",
    "  \n",
    "    print(\"System is in safe state.\", \n",
    "              \"\\nSafe sequence is: \", end = \" \") \n",
    "    print(*safeSeq)  \n",
    "  \n",
    "    return True\n"
   ]
  },
  {
   "cell_type": "code",
   "execution_count": null,
   "metadata": {
    "colab": {
     "base_uri": "https://localhost:8080/"
    },
    "id": "63S07FUvLffp",
    "outputId": "a7e37c36-839c-4496-e7c0-d1f25057b95a"
   },
   "outputs": [
    {
     "name": "stdout",
     "output_type": "stream",
     "text": [
      "System is not in safe state\n"
     ]
    },
    {
     "data": {
      "text/plain": [
       "False"
      ]
     },
     "execution_count": 11,
     "metadata": {
      "tags": []
     },
     "output_type": "execute_result"
    }
   ],
   "source": [
    "isSafe(process, avail, max_r, allot) "
   ]
  },
  {
   "cell_type": "code",
   "execution_count": null,
   "metadata": {
    "id": "aI1JmiiHQ04R"
   },
   "outputs": [],
   "source": []
  }
 ],
 "metadata": {
  "colab": {
   "name": "Banker's.ipynb",
   "provenance": []
  },
  "kernelspec": {
   "display_name": "Python 3",
   "language": "python",
   "name": "python3"
  },
  "language_info": {
   "codemirror_mode": {
    "name": "ipython",
    "version": 3
   },
   "file_extension": ".py",
   "mimetype": "text/x-python",
   "name": "python",
   "nbconvert_exporter": "python",
   "pygments_lexer": "ipython3",
   "version": "3.7.3"
  }
 },
 "nbformat": 4,
 "nbformat_minor": 1
}
