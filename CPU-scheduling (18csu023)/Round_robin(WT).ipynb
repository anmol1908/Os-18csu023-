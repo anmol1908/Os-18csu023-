{
  "nbformat": 4,
  "nbformat_minor": 0,
  "metadata": {
    "colab": {
      "name": "Round_robin(WT).ipynb",
      "provenance": []
    },
    "kernelspec": {
      "name": "python3",
      "display_name": "Python 3"
    }
  },
  "cells": [
    {
      "cell_type": "code",
      "metadata": {
        "id": "tqC_3QWb1doy"
      },
      "source": [
        "def waitingTime(processes, n, bt,  \n",
        "                         wt, quantum):  \n",
        "    rem_bt = [0] * n\n",
        "    t=0\n",
        "\n",
        "    for i in range(n):  \n",
        "        rem_bt[i] = bt[i]\n",
        "    \n",
        "    while(1): \n",
        "        done = True\n",
        "\n",
        "        for i in range(n): \n",
        "          if (rem_bt[i] > 0) :\n",
        "            done = False \n",
        "            if (rem_bt[i] > quantum) :\n",
        "              t += quantum\n",
        "              rem_bt[i] -= quantum\n",
        "            else:\n",
        "              t = t + rem_bt[i]\n",
        "              wt[i] = t - bt[i]\n",
        "              rem_bt[i] = 0\n",
        "\n",
        "        if (done == True): \n",
        "          break\n",
        "                  \n",
        "\n",
        "\n",
        "def turnAroundTime(processes, n, bt, wt, tat):  \n",
        "\n",
        "    for i in range(n): \n",
        "        tat[i] = bt[i] + wt[i]\n",
        "\n",
        "def findavgTime(processes, n, bt, quantum):  \n",
        "    wt = [0] * n \n",
        "    tat = [0] * n \n",
        "\n",
        "    total_wt = 0\n",
        "    total_tat = 0\n",
        "\n",
        "    waitingTime(processes, n, bt, wt, quantum)\n",
        "    turnAroundTime(processes, n, bt, wt, tat)\n",
        "\n",
        "    print(\"processes\"+ '\\t'+\"burstTime\"+'\\t'+\"waitingTime\"+'\\t'+\"turnAroundTime\")\n",
        "\n",
        "    for i in range(n): \n",
        "  \n",
        "        total_wt = total_wt + wt[i]  \n",
        "        total_tat = total_tat + tat[i]\n",
        "\n",
        "        print(\" \", processes[i], \"\\t\\t\", bt[i], \"\\t\\t\", wt[i], \"\\t\\t\", tat[i])\n",
        "\n",
        "    print(\"Average waiting time = \",(total_wt /n)) \n",
        "    print(\"Average turn around time = \", total_tat / n)\n"
      ],
      "execution_count": null,
      "outputs": []
    },
    {
      "cell_type": "code",
      "metadata": {
        "id": "h5SSOwT_2NfG",
        "outputId": "26cbb681-38d4-4232-bb60-cc41a7f777a0",
        "colab": {
          "base_uri": "https://localhost:8080/",
          "height": 202
        }
      },
      "source": [
        "n=int(input(\"No. of processes do you want?\"))\n",
        "\n",
        "quantum=int(input(\"Enter the quantum time\"))   \n",
        "processes=[]\n",
        "burstTime=[] \n",
        "\n",
        "\n",
        "for i in range(1,n+1):\n",
        "    processes.append(i)\n",
        "    \n",
        "for i in range(1,n+1):         \n",
        "    a=int(input(\"burstTime for {} process \".format(i)))\n",
        "    burstTime.append(a)\n",
        "    \n",
        "findavgTime(processes, n, burstTime, quantum)"
      ],
      "execution_count": null,
      "outputs": [
        {
          "output_type": "stream",
          "text": [
            "No. of processes do you want?3\n",
            "Enter the quantum time2\n",
            "burstTime for 1 process 10\n",
            "burstTime for 2 process 5\n",
            "burstTime for 3 process 8\n",
            "processes\tburstTime\twaitingTime\tturnAroundTime\n",
            "  1 \t\t 10 \t\t 13 \t\t 23\n",
            "  2 \t\t 5 \t\t 10 \t\t 15\n",
            "  3 \t\t 8 \t\t 13 \t\t 21\n",
            "Average waiting time =  12.0\n",
            "Average turn around time =  19.666666666666668\n"
          ],
          "name": "stdout"
        }
      ]
    },
    {
      "cell_type": "code",
      "metadata": {
        "id": "jfFuXSH7IRg9"
      },
      "source": [
        ""
      ],
      "execution_count": null,
      "outputs": []
    }
  ]
}