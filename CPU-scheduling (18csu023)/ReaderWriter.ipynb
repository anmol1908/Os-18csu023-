{
  "nbformat": 4,
  "nbformat_minor": 0,
  "metadata": {
    "colab": {
      "name": "ReaderWriter.ipynb",
      "provenance": []
    },
    "kernelspec": {
      "name": "python3",
      "display_name": "Python 3"
    }
  },
  "cells": [
    {
      "cell_type": "code",
      "metadata": {
        "id": "hgwSQbVLFjhN"
      },
      "source": [
        "import threading\n",
        "\n",
        "class Reader_writer():\n",
        "  \n",
        "    def __init__(self):\n",
        "        self.readers = 0\n",
        "        self.writers = 0\n",
        "        self.mutex1 = threading.Semaphore() \n",
        "        self.writeBlock = threading.Semaphore() \n",
        "\n",
        "    def reader(self):\n",
        "  \n",
        "        self.mutex1.acquire()\n",
        "        self.readers = self.readers + 1\n",
        "        if self.readers == 1: \n",
        "          self.writeBlock.acquire()\n",
        "        self.mutex1.release()\n",
        "        print(\"Reader is reading\")\n",
        "        self.mutex1.acquire()\n",
        "        self.readers = self.readers - 1\n",
        "        if self.readers == 0:\n",
        "           self.writeBlock.release()\n",
        "        self.mutex1.release()\n",
        "      \n",
        "\n",
        "    def writer(self):\n",
        "        self.writeBlock.acquire()\n",
        "        print(\"Writer can write\")\n",
        "        self.writeBlock.release()\n",
        "\n",
        "    def function(self):\n",
        "        t1 = threading.Thread(target = self.reader) \n",
        "        t1.start()\n",
        "        t2 = threading.Thread(target = self.writer) \n",
        "        t2.start()\n",
        "        t3 = threading.Thread(target = self.reader) \n",
        "        t3.start()    "
      ],
      "execution_count": null,
      "outputs": []
    },
    {
      "cell_type": "code",
      "metadata": {
        "id": "dBKFrcvgIx4R",
        "outputId": "7d645772-15f4-4fe5-8924-32ef3a3ca04d",
        "colab": {
          "base_uri": "https://localhost:8080/"
        }
      },
      "source": [
        "if __name__==\"__main__\":\n",
        "    obj = Reader_writer()\n",
        "    obj.function()"
      ],
      "execution_count": null,
      "outputs": [
        {
          "output_type": "stream",
          "text": [
            "Reader is reading\n",
            "Writer can write\n",
            "Reader is reading\n"
          ],
          "name": "stdout"
        }
      ]
    },
    {
      "cell_type": "code",
      "metadata": {
        "id": "25v36rXtMfet"
      },
      "source": [
        ""
      ],
      "execution_count": null,
      "outputs": []
    }
  ]
}