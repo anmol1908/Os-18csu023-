{
  "nbformat": 4,
  "nbformat_minor": 0,
  "metadata": {
    "colab": {
      "name": "SJF.ipynb",
      "provenance": []
    },
    "kernelspec": {
      "name": "python3",
      "display_name": "Python 3"
    }
  },
  "cells": [
    {
      "cell_type": "code",
      "metadata": {
        "id": "PK9P9jAPTFwa",
        "outputId": "c051ec48-ab74-44a0-b76a-4b970b1b972b",
        "colab": {
          "base_uri": "https://localhost:8080/",
          "height": 218
        }
      },
      "source": [
        "import numpy as np\n",
        "\n",
        "n=int(input(\"No. of processes do you want?\"))   \n",
        "processes=[]\n",
        "burstTime=[] \n",
        "job=[]\n",
        "for i in range(1,n+1):\n",
        "    processes.append(i)\n",
        "    \n",
        "for i in range(1,n+1):         \n",
        "    a=int(input(\"burstTime for {} process \".format(i)))\n",
        "    burstTime.append(a)\n",
        "  \n",
        "    \n",
        "job=[processes,burstTime]    \n",
        "#nested list of processes \n",
        "job1=list(map(list, zip(*job)))\n",
        "#sort the processes according to burstTime\n",
        "job1=sorted(job1, key = lambda x: x[1])\n",
        "\n",
        "wt=[0]*n\n",
        "wt[0]=0\n",
        "for i in range(1,len(job1)):\n",
        "  wt[i]=wt[i-1]+job1[i-1][1]\n",
        "\n",
        "tat=[0]*n\n",
        "for i in range(len(job1)):\n",
        "  tat[i]=job1[i][1]+wt[i]\n",
        "\n",
        "avgwt=0\n",
        "avgtat=0\n",
        "total_wt=0\n",
        "total_tat=0\n",
        "for i in range(len(job1)):\n",
        "  total_wt+=wt[i]\n",
        "  total_tat+=tat[i]\n",
        "avgwt=total_wt/n\n",
        "avgtat=total_tat/n \n",
        "\n",
        "print(\"processes\"+ '\\t'+\"burstTime\"+'\\t'+\"waitingTime\"+'\\t'+\"turnAroundTime\")\n",
        "for i in range(len(job1)):\n",
        "  p,bt=job1[i]  \n",
        "  print(\" \" + str(job1[i][0]) + \"\\t\\t\" + str(job1[i][1]) +\"\\t\\t\"+ str(wt[i]) + \"\\t\\t\" + str(tat[i]))\n",
        "print(\"average waiting time\",avgwt)\n",
        "print(\"average turn around time\",avgtat)  "
      ],
      "execution_count": null,
      "outputs": [
        {
          "output_type": "stream",
          "text": [
            "No. of processes do you want?4\n",
            "burstTime for 1 process 2\n",
            "burstTime for 2 process 5\n",
            "burstTime for 3 process 1\n",
            "burstTime for 4 process 3\n",
            "processes\tburstTime\twaitingTime\tturnAroundTime\n",
            " 3\t\t1\t\t0\t\t1\n",
            " 1\t\t2\t\t1\t\t3\n",
            " 4\t\t3\t\t3\t\t6\n",
            " 2\t\t5\t\t6\t\t11\n",
            "average waiting time 2.5\n",
            "average turn around time 5.25\n"
          ],
          "name": "stdout"
        }
      ]
    }
  ]
}