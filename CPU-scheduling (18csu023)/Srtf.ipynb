{
  "nbformat": 4,
  "nbformat_minor": 0,
  "metadata": {
    "colab": {
      "name": "Srtf.ipynb",
      "provenance": [],
      "collapsed_sections": []
    },
    "kernelspec": {
      "name": "python3",
      "display_name": "Python 3"
    }
  },
  "cells": [
    {
      "cell_type": "code",
      "metadata": {
        "id": "f2KfcF7yzKbw"
      },
      "source": [
        "def waitingTime(job1, n, wt):  \n",
        "  \n",
        "  rt = [0] * n \n",
        "   \n",
        "  for i in range(n):  \n",
        "      rt[i] = job1[i][1] \n",
        "  complete = 0\n",
        "  t=0 \n",
        "  minm=9999 \n",
        "  check=False\n",
        "  short=0\n",
        "  while (complete != n): \n",
        "             \n",
        "      for j in range(n): \n",
        "         if ((job1[j][2] <= t) and \n",
        "              (rt[j] < minm) and rt[j] > 0): \n",
        "              minm = rt[j] \n",
        "              short = j \n",
        "              check = True\n",
        "      if (check == False): \n",
        "          t += 1\n",
        "          continue\n",
        "      rt[short] -=1  \n",
        "      minm = rt[short]  \n",
        "      if (minm == 0):  \n",
        "            minm = 9999\n",
        "\n",
        "      if (rt[short] == 0): \n",
        "                                    \n",
        "                                       \n",
        "            complete += 1\n",
        "            check = False\n",
        "  \n",
        "          \n",
        "            fint = t + 1\n",
        "  \n",
        "   \n",
        "            wt[short] = (fint - job1[short][1] -    \n",
        "                                job1[short][2]) \n",
        "  \n",
        "            if (wt[short] < 0): \n",
        "                wt[short] = 0\n",
        "  \n",
        "      t += 1\n",
        "\n",
        "  \n",
        "def turnAroundTime(job1, n, wt, tat):  \n",
        "\n",
        "    for i in range(n): \n",
        "        tat[i] = job1[i][1] + wt[i] \n",
        "\n",
        "def averageTime(job1, n):\n",
        "    wt = [0] * n \n",
        "    tat = [0] * n\n",
        "    total_wt = 0\n",
        "    total_tat = 0\n",
        "\n",
        "    waitingTime(job1, n, wt)\n",
        "\n",
        "    turnAroundTime(job1,n,wt,tat)\n",
        "    \n",
        "    print(\"processes\"+ '\\t'+\"burstTime\"+'\\t'+\"arrivalTime\"+'\\t'+\"waitingTime\"+'\\t'+\"turnAroundTime\")\n",
        "\n",
        "    for i in range(n): \n",
        "  \n",
        "        total_wt = total_wt + wt[i]  \n",
        "        total_tat = total_tat + tat[i]  \n",
        "        \n",
        "        print(\" \" + str(job1[i][0]) + \"\\t\\t\" + str(job1[i][1]) + \"\\t\\t \" +str(job1[i][2])+\"\\t\\t\"+ str(wt[i]) + \"\\t\\t\" + str(tat[i]))\n",
        "                                                         \n",
        "    print(\"Average waiting time = \",(total_wt /n)) \n",
        "    print(\"Average turn around time = \", total_tat / n)         \n",
        "                                                                  "
      ],
      "execution_count": null,
      "outputs": []
    },
    {
      "cell_type": "code",
      "metadata": {
        "id": "JwhzFObg91qD",
        "outputId": "2b5591bf-b06a-494c-9882-07a90e318644",
        "colab": {
          "base_uri": "https://localhost:8080/",
          "height": 235
        }
      },
      "source": [
        "import numpy as np\n",
        "\n",
        "n=int(input(\"No. of processes do you want?\"))\n",
        "    \n",
        "processes=[]\n",
        "burstTime=[] \n",
        "arrivalTime=[]\n",
        "job=[]\n",
        "for i in range(1,n+1):\n",
        "    processes.append(i)\n",
        "    \n",
        "for i in range(1,n+1):         \n",
        "    a=int(input(\"burstTime for {} process \".format(i)))\n",
        "    burstTime.append(a)\n",
        "    \n",
        "for i in range(1,n+1):     \n",
        "    b=int(input(\"arrivalTime for {} process \".format(i))) \n",
        "    arrivalTime.append(b) \n",
        "    \n",
        "job=[processes,burstTime,arrivalTime,np.zeros(n,dtype = int)]    \n",
        "job1=list(map(list, zip(*job)))\n",
        "averageTime(job1,n)"
      ],
      "execution_count": null,
      "outputs": [
        {
          "output_type": "stream",
          "text": [
            "No. of processes do you want?3\n",
            "burstTime for 1 process 20\n",
            "burstTime for 2 process 10\n",
            "burstTime for 3 process 30\n",
            "arrivalTime for 1 process 0\n",
            "arrivalTime for 2 process 3\n",
            "arrivalTime for 3 process 7\n",
            "processes\tburstTime\tarrivalTime\twaitingTime\tturnAroundTime\n",
            " 1\t\t20\t\t 0\t\t10\t\t30\n",
            " 2\t\t10\t\t 3\t\t0\t\t10\n",
            " 3\t\t30\t\t 7\t\t23\t\t53\n",
            "Average waiting time =  11.0\n",
            "Average turn around time =  31.0\n"
          ],
          "name": "stdout"
        }
      ]
    },
    {
      "cell_type": "code",
      "metadata": {
        "id": "jr1fCCZrBJmg"
      },
      "source": [
        ""
      ],
      "execution_count": null,
      "outputs": []
    }
  ]
}